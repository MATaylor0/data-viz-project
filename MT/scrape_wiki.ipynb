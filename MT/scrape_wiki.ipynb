{
 "cells": [
  {
   "cell_type": "code",
   "execution_count": null,
   "metadata": {},
   "outputs": [],
   "source": [
    "# Import dependencies\n",
    "import pandas as pd\n",
    "import json\n",
    "import re\n",
    "import concurrent.futures\n",
    "import time"
   ]
  },
  {
   "cell_type": "code",
   "execution_count": null,
   "metadata": {},
   "outputs": [],
   "source": [
    "# Retrieve the geoJSON data which contains the list of country names\n",
    "with open(\"static/data/countries.geojson\") as f:\n",
    "    data = json.load(f)\n",
    "    \n",
    "    f.close()"
   ]
  },
  {
   "cell_type": "code",
   "execution_count": null,
   "metadata": {},
   "outputs": [],
   "source": [
    "# Use list comprehension to retreive the names from the json\n",
    "names = [i[\"properties\"][\"ADMIN\"] for i in data[\"features\"]]"
   ]
  },
  {
   "cell_type": "code",
   "execution_count": null,
   "metadata": {},
   "outputs": [],
   "source": [
    "# Selecting a country name\n",
    "country = names[15]\n",
    "country"
   ]
  },
  {
   "cell_type": "code",
   "execution_count": null,
   "metadata": {},
   "outputs": [],
   "source": [
    "# Building the query URL\n",
    "url = \"https://en.wikipedia.org/wiki/\"\n",
    "\n",
    "queryURL = url + country.replace(\" \", \"_\")\n",
    "\n",
    "queryURL"
   ]
  },
  {
   "cell_type": "code",
   "execution_count": null,
   "metadata": {},
   "outputs": [],
   "source": [
    "# Using pandas to scrape the URL\n",
    "wiki = pd.read_html(queryURL)[0]\n",
    "wiki.columns = [1, 2]"
   ]
  },
  {
   "cell_type": "code",
   "execution_count": null,
   "metadata": {},
   "outputs": [],
   "source": [
    "# Dropping any N/A values\n",
    "wiki.dropna(how = \"any\", inplace = True)\n",
    "wiki.reset_index(drop = True, inplace = True)"
   ]
  },
  {
   "cell_type": "code",
   "execution_count": null,
   "metadata": {},
   "outputs": [],
   "source": [
    "# Cleaning the data\n",
    "wiki[1] = wiki[1].apply(lambda x: x.replace(\"•\", \"\"))"
   ]
  },
  {
   "cell_type": "code",
   "execution_count": null,
   "metadata": {},
   "outputs": [],
   "source": [
    "# Defining target values & creating an empty list\n",
    "target = [\"Capital\", \".+language\", \"Population\", \"GDP\\xa0(PPP)\", \"Currency\"]\n",
    "values = []\n",
    "\n",
    "# Looping through the target values\n",
    "for i in target:\n",
    "    # Check if the target is not in the list\n",
    "    if i not in list(wiki[1]):\n",
    "        # Checking for the regex expression\n",
    "        if i == \".+language\":\n",
    "            for x in range(0, len(wiki)):\n",
    "                # If the regex expression is found, take the first value and end the loop\n",
    "                if re.search(i, wiki[1][x]):\n",
    "                    values.append(wiki[2][x])\n",
    "                    break\n",
    "        else:\n",
    "            # If nothing is found, append N/A\n",
    "            values.append(\"N/A\")\n",
    "    else:\n",
    "        # Looping through the dataframe to find data\n",
    "        for x in range(0, len(wiki)):\n",
    "            \n",
    "            if wiki[1][x] == i:\n",
    "                if wiki[1][x] == \"Population\":\n",
    "                    values.append(wiki[2][x + 1])\n",
    "                    if wiki[1][x + 3] == \"GDP\\xa0(PPP)\":\n",
    "                        values.append(wiki[2][x + 2])\n",
    "                    else:\n",
    "                        values.append(wiki[2][x + 3])\n",
    "                        \n",
    "                elif wiki[1][x] == \"GDP\\xa0(PPP)\":\n",
    "                    values.append(wiki[2][x + 1])\n",
    "                    values.append(wiki[2][x + 2])\n",
    "                    \n",
    "                else:\n",
    "                    values.append(wiki[2][x])\n",
    "                    \n",
    "# Checking the values collected\n",
    "values"
   ]
  },
  {
   "cell_type": "code",
   "execution_count": null,
   "metadata": {},
   "outputs": [],
   "source": [
    "# If a capital city is found, clean the value\n",
    "match = re.match(r\"([a-z]+)([0-9]+)\", values[0], re.I)\n",
    "if match:\n",
    "    items = match.groups()\n",
    "    values[0] = items[0]\n",
    "\n",
    "vals = []\n",
    "\n",
    "# Removing [ values from the data\n",
    "for x in values:\n",
    "    vals.append(x.split(\"[\")[0])\n",
    "\n",
    "vals[3] = vals[3].split(\" \")[0]\n",
    "\n",
    "# Adding the country name\n",
    "vals.insert(0, country)\n",
    "\n",
    "vals"
   ]
  },
  {
   "cell_type": "code",
   "execution_count": null,
   "metadata": {},
   "outputs": [],
   "source": [
    "# Creating the titles for the table\n",
    "titles = [\"Country Name: \", \"Capital City: \", \"Official Language: \", \n",
    "          \"Population: \", \"Population Density: \", \"GDP Total: \", \"GDP Per Capita: \", \"Currency: \"]\n",
    "\n",
    "# Creating a dataframe to be stored\n",
    "output_df = pd.DataFrame(vals, titles)\n",
    "output_df"
   ]
  },
  {
   "cell_type": "code",
   "execution_count": null,
   "metadata": {},
   "outputs": [],
   "source": [
    "# Import dependencies\n",
    "import pandas as pd\n",
    "import json\n",
    "import re\n",
    "import concurrent.futures\n",
    "import time\n",
    "\n",
    "# Retrieve the geoJSON data which contains the list of country names\n",
    "with open(\"static/data/countries.geojson\") as f:\n",
    "    data = json.load(f)\n",
    "    \n",
    "    f.close()\n",
    "    \n",
    "# Use list comprehension to retreive the names from the json\n",
    "names = [i[\"properties\"][\"ADMIN\"] for i in data[\"features\"]]\n",
    "\n",
    "# Building a function which can be used in a loop\n",
    "def scrape_wiki(country):\n",
    "    # Building the query URL\n",
    "    url = \"https://en.wikipedia.org/wiki/\"\n",
    "    queryURL = url + country.replace(\" \", \"_\")\n",
    "\n",
    "    # Using pandas to scrape the URL\n",
    "    wiki = pd.read_html(queryURL)[0]\n",
    "    wiki.columns = [1, 2]\n",
    "    \n",
    "    # Dropping any N/A values\n",
    "    wiki.dropna(how = \"any\", inplace = True)\n",
    "    wiki.reset_index(drop = True, inplace = True)\n",
    "    \n",
    "    # Cleaning the data\n",
    "    wiki[1] = wiki[1].apply(lambda x: x.replace(\"•\", \"\"))\n",
    "    \n",
    "    # Defining target values & creating an empty list\n",
    "    target = [\"Capital\", \".+language\", \"Population\", \"GDP\\xa0(PPP)\", \"Currency\"]\n",
    "    values = []\n",
    "\n",
    "    # Looping through the target values\n",
    "    for i in target:\n",
    "        # Check if the target is not in the list\n",
    "        if i not in list(wiki[1]):\n",
    "            # Checking for the regex expression\n",
    "            if i == \".+language\":\n",
    "                for x in range(0, len(wiki)):\n",
    "                    # If the regex expression is found, take the first value and end the loop\n",
    "                    if re.search(i, wiki[1][x]):\n",
    "                        values.append(wiki[2][x])\n",
    "                        break\n",
    "            else:\n",
    "                # If nothing is found, append N/A\n",
    "                values.append(\"N/A\")\n",
    "        else:\n",
    "            # Looping through the dataframe to find data\n",
    "            for x in range(0, len(wiki)):\n",
    "\n",
    "                if wiki[1][x] == i:\n",
    "                    if wiki[1][x] == \"Population\":\n",
    "                        values.append(wiki[2][x + 1])\n",
    "                        if wiki[1][x + 3] == \"GDP\\xa0(PPP)\":\n",
    "                            values.append(wiki[2][x + 2])\n",
    "                        else:\n",
    "                            values.append(wiki[2][x + 3])\n",
    "\n",
    "                    elif wiki[1][x] == \"GDP\\xa0(PPP)\":\n",
    "                        values.append(wiki[2][x + 1])\n",
    "                        values.append(wiki[2][x + 2])\n",
    "\n",
    "                    else:\n",
    "                        values.append(wiki[2][x])\n",
    "                        \n",
    "    # If a capital city is found, clean the value\n",
    "    match = re.match(r\"([a-z]+)([0-9]+)\", values[0], re.I)\n",
    "    if match:\n",
    "        items = match.groups()\n",
    "        values[0] = items[0]\n",
    "\n",
    "    vals = []\n",
    "\n",
    "    # Removing [ values from the data\n",
    "    for x in values:\n",
    "        vals.append(x.split(\"[\")[0])\n",
    "\n",
    "    vals[3] = vals[3].split(\" \")[0]\n",
    "\n",
    "    # Adding the country name\n",
    "    vals.insert(0, country)\n",
    "    \n",
    "    # Creating the titles for the table\n",
    "    titles = [\"Country Name: \", \"Capital City: \", \"Official Language: \", \n",
    "              \"Population: \", \"Population Density: \", \"GDP Total: \", \"GDP Per Capita: \", \"Currency: \"]\n",
    "\n",
    "    # Creating a dataframe to be stored\n",
    "    df = pd.DataFrame(vals, titles)\n",
    "\n",
    "    return df"
   ]
  },
  {
   "cell_type": "code",
   "execution_count": null,
   "metadata": {},
   "outputs": [],
   "source": [
    "# Creating an empty dictionary to hold all of the country data\n",
    "d = {}"
   ]
  },
  {
   "cell_type": "code",
   "execution_count": null,
   "metadata": {},
   "outputs": [],
   "source": [
    "missed = []\n",
    "\n",
    "# Creating a function to run the scrape wiki function for each country\n",
    "def scrape(i):\n",
    "    try:\n",
    "        a = scrape_wiki(i)\n",
    "        d[i] = a\n",
    "    except:\n",
    "        missed.append(i)\n",
    "        \n",
    "# Creating a function that asynchronously runs the scrape function\n",
    "def download_results(names):\n",
    "    threads = 30\n",
    "    \n",
    "    with concurrent.futures.ThreadPoolExecutor(max_workers = threads) as executor:\n",
    "        executor.map(scrape, names)\n",
    "\n",
    "# Creating a main function to call the previous functions\n",
    "def main(names):\n",
    "    t0 = time.time()\n",
    "    download_results(names)\n",
    "    t1 = time.time()\n",
    "    \n",
    "    print(f\"{t1-t0} seconds to download {len(names) - len(missed)} countries.\\n{len(missed)} could not be retreived\")"
   ]
  },
  {
   "cell_type": "code",
   "execution_count": null,
   "metadata": {},
   "outputs": [],
   "source": [
    "# Calling the main function\n",
    "main(names)"
   ]
  },
  {
   "cell_type": "code",
   "execution_count": null,
   "metadata": {},
   "outputs": [],
   "source": [
    "# From here we need to push this data in dictionary \"d\" to a database"
   ]
  }
 ],
 "metadata": {
  "kernelspec": {
   "display_name": "Python 3",
   "language": "python",
   "name": "python3"
  },
  "language_info": {
   "codemirror_mode": {
    "name": "ipython",
    "version": 3
   },
   "file_extension": ".py",
   "mimetype": "text/x-python",
   "name": "python",
   "nbconvert_exporter": "python",
   "pygments_lexer": "ipython3",
   "version": "3.8.3"
  }
 },
 "nbformat": 4,
 "nbformat_minor": 4
}
